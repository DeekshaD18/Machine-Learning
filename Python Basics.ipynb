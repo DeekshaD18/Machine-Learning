{
 "cells": [
  {
   "cell_type": "markdown",
   "id": "505a4a24",
   "metadata": {},
   "source": [
    "# PYTHON"
   ]
  },
  {
   "cell_type": "raw",
   "id": "94348ae0",
   "metadata": {},
   "source": [
    "1. Why python still has 2.7 version?\n",
    "--> Python still has older version available on net because most of the projects were built on 2.7 and \n",
    "there is a huge difference between version 2 and version 3 Eg: Print statement, read statement"
   ]
  },
  {
   "cell_type": "raw",
   "id": "6e644795",
   "metadata": {},
   "source": [
    "2. How can we avoid the above problem? Every time we make a new project in the current version after 4-5 months if we try to run it.\n",
    "it definitely wont run as the version would have advanced.\n",
    "To over come this.\n",
    "--> Create seperate virtual environment"
   ]
  },
  {
   "cell_type": "markdown",
   "id": "a44870b1",
   "metadata": {},
   "source": [
    "## Print"
   ]
  },
  {
   "cell_type": "code",
   "execution_count": 1,
   "id": "0a89e7eb",
   "metadata": {},
   "outputs": [
    {
     "name": "stdout",
     "output_type": "stream",
     "text": [
      "30*70!\n",
      "Hello World\n"
     ]
    }
   ],
   "source": [
    "print(10+20, 30+40, sep='*', end='!')\n",
    "print()\n",
    "print(\"Hello World\")"
   ]
  },
  {
   "cell_type": "markdown",
   "id": "8ac65597",
   "metadata": {},
   "source": [
    "## Keywords"
   ]
  },
  {
   "cell_type": "raw",
   "id": "59bc7ca1",
   "metadata": {},
   "source": [
    "33 Keywords in python\n",
    "all keywords begin with lower case except [True, False, None]"
   ]
  },
  {
   "cell_type": "markdown",
   "id": "a37eae8f",
   "metadata": {},
   "source": [
    "## Identifiers"
   ]
  },
  {
   "cell_type": "raw",
   "id": "b0174a08",
   "metadata": {},
   "source": [
    "Begin with alphabets or underscore but not digits.\n",
    "can contain digits."
   ]
  },
  {
   "cell_type": "markdown",
   "id": "a142f3c4",
   "metadata": {},
   "source": [
    "## Comments"
   ]
  },
  {
   "cell_type": "raw",
   "id": "74a3e944",
   "metadata": {},
   "source": [
    "1. Single line comments\n",
    "# \n",
    "\n",
    "2. Multi line comments\n",
    "''' \n",
    "       '''\n",
    "\n",
    "\" \" \" \n",
    "        \" \" \""
   ]
  },
  {
   "cell_type": "markdown",
   "id": "067396cd",
   "metadata": {},
   "source": [
    "## Primitive Data Types"
   ]
  },
  {
   "cell_type": "raw",
   "id": "c83a8fe5",
   "metadata": {},
   "source": [
    "1. String \n",
    "2. Int \n",
    "3. Float \n",
    "4. Bool \n",
    "5. NoneType \n",
    "6. Complex"
   ]
  },
  {
   "cell_type": "code",
   "execution_count": 2,
   "id": "6f1e1064",
   "metadata": {},
   "outputs": [
    {
     "name": "stdout",
     "output_type": "stream",
     "text": [
      "<class 'str'>\n"
     ]
    }
   ],
   "source": [
    "#String\n",
    "string = \"Hello\"\n",
    "print(type(string))"
   ]
  },
  {
   "cell_type": "raw",
   "id": "338acb39",
   "metadata": {},
   "source": [
    "There is no data type as char in python\n",
    "so whatever is in \" \" or ' ' is considered as string data type only."
   ]
  },
  {
   "cell_type": "code",
   "execution_count": 3,
   "id": "b7b6966e",
   "metadata": {},
   "outputs": [
    {
     "name": "stdout",
     "output_type": "stream",
     "text": [
      "5\n",
      "<class 'int'>\n"
     ]
    }
   ],
   "source": [
    "#int\n",
    "a = 5\n",
    "print(a)\n",
    "print(type(a))"
   ]
  },
  {
   "cell_type": "markdown",
   "id": "022b2770",
   "metadata": {},
   "source": [
    "In c++ or java we used to have limitations for each data type but in python we can store any number as int. there is no limitation. it only depends on your memory."
   ]
  },
  {
   "cell_type": "code",
   "execution_count": 4,
   "id": "1c964aa7",
   "metadata": {},
   "outputs": [
    {
     "name": "stdout",
     "output_type": "stream",
     "text": [
      "5.5\n",
      "<class 'float'>\n"
     ]
    }
   ],
   "source": [
    "#float\n",
    "b = 5.5\n",
    "print(b)\n",
    "print(type(b))"
   ]
  },
  {
   "cell_type": "code",
   "execution_count": 5,
   "id": "1198d65d",
   "metadata": {},
   "outputs": [
    {
     "ename": "NameError",
     "evalue": "name 'bool_valuevalue' is not defined",
     "output_type": "error",
     "traceback": [
      "\u001b[1;31m---------------------------------------------------------------------------\u001b[0m",
      "\u001b[1;31mNameError\u001b[0m                                 Traceback (most recent call last)",
      "\u001b[1;32m<ipython-input-5-3eeeaafcc4d5>\u001b[0m in \u001b[0;36m<module>\u001b[1;34m\u001b[0m\n\u001b[0;32m      1\u001b[0m \u001b[1;31m#bool\u001b[0m\u001b[1;33m\u001b[0m\u001b[1;33m\u001b[0m\u001b[1;33m\u001b[0m\u001b[0m\n\u001b[0;32m      2\u001b[0m \u001b[0mbool_value\u001b[0m \u001b[1;33m=\u001b[0m \u001b[1;32mTrue\u001b[0m\u001b[1;33m\u001b[0m\u001b[1;33m\u001b[0m\u001b[0m\n\u001b[1;32m----> 3\u001b[1;33m \u001b[0mprint\u001b[0m\u001b[1;33m(\u001b[0m\u001b[0mtype\u001b[0m\u001b[1;33m(\u001b[0m\u001b[0mbool_valuevalue\u001b[0m\u001b[1;33m)\u001b[0m\u001b[1;33m)\u001b[0m\u001b[1;33m\u001b[0m\u001b[1;33m\u001b[0m\u001b[0m\n\u001b[0m",
      "\u001b[1;31mNameError\u001b[0m: name 'bool_valuevalue' is not defined"
     ]
    }
   ],
   "source": [
    "#bool\n",
    "bool_value = True\n",
    "print(type(bool_valuevalue))"
   ]
  },
  {
   "cell_type": "code",
   "execution_count": null,
   "id": "75de84e7",
   "metadata": {},
   "outputs": [],
   "source": [
    "#complex \n",
    "#a + ib\n",
    "complex_num = 5+7j\n",
    "print(complex_num)\n",
    "print(type(complex_num))\n",
    "#WE CAN USE ONLY J NOT ANY OTHER CHARACTER"
   ]
  },
  {
   "cell_type": "code",
   "execution_count": null,
   "id": "ae15635a",
   "metadata": {},
   "outputs": [],
   "source": [
    "#NoneType\n",
    "element = None\n",
    "print(element)\n",
    "print(type(element))"
   ]
  },
  {
   "cell_type": "markdown",
   "id": "42b10e0d",
   "metadata": {},
   "source": [
    "## Strings "
   ]
  },
  {
   "cell_type": "code",
   "execution_count": null,
   "id": "b77f46b7",
   "metadata": {},
   "outputs": [],
   "source": [
    "word = \"Hello World\"\n",
    "print(word[0])\n",
    "#word[11] --> out of range error\n",
    "print(word[3:10])\n",
    "print(word[:4]) #[a:b] --> start a less than b\n",
    "print(word[0:11:2]) #[a:b:c] --> increment by c\n",
    "print(word[-1]) # --> Right to Left\n",
    "print(word[-6:-1]) \n",
    "print(word[-1:-6]) #doesnt work as default step value is +1\n",
    "print(word[-1:-6:-1])\n",
    "print(word[::]) \n",
    "#default value of start and stop are 0 and length of word+1\n",
    "print(word[::-1])\n"
   ]
  },
  {
   "cell_type": "raw",
   "id": "cc361e69",
   "metadata": {},
   "source": [
    "STRING FUNCTIONS"
   ]
  },
  {
   "cell_type": "code",
   "execution_count": null,
   "id": "13262c18",
   "metadata": {},
   "outputs": [],
   "source": [
    "string = \"Hello deeksha how are you?\"\n",
    "string.split(\" \")"
   ]
  },
  {
   "cell_type": "markdown",
   "id": "5a1db6d8",
   "metadata": {},
   "source": [
    "## Operators"
   ]
  },
  {
   "cell_type": "raw",
   "id": "c8f7410a",
   "metadata": {},
   "source": [
    "1. Arithmetic\n",
    "2. Logical\n",
    "3. Relational/ Conditional / Comparison\n",
    "4. Assignment\n",
    "5. Membership\n",
    "6. Identity\n",
    "7. Bitwise"
   ]
  },
  {
   "cell_type": "raw",
   "id": "9c51ccec",
   "metadata": {},
   "source": [
    "Arithmetic +,-,/,//,*,%,**\n",
    "\n",
    "% --> Modulus\n",
    "// --> Floor divion or Integer Division\n",
    "** --> Square"
   ]
  },
  {
   "cell_type": "code",
   "execution_count": null,
   "id": "cbf91be7",
   "metadata": {},
   "outputs": [],
   "source": [
    "print(round(10/3))\n",
    "print(round(14/3))"
   ]
  },
  {
   "cell_type": "raw",
   "id": "d87ebbcc",
   "metadata": {},
   "source": [
    "Conditional Operators\n",
    ">\n",
    "<\n",
    ">=\n",
    "<=\n",
    "!=\n",
    "=="
   ]
  },
  {
   "cell_type": "raw",
   "id": "0b664fbc",
   "metadata": {},
   "source": [
    "Logical Operators\n",
    "\n",
    "and\n",
    "or\n",
    "not"
   ]
  },
  {
   "cell_type": "raw",
   "id": "2773de93",
   "metadata": {},
   "source": [
    "Membership Operators\n",
    "\n",
    "in \n",
    "not in"
   ]
  },
  {
   "cell_type": "raw",
   "id": "1df98841",
   "metadata": {},
   "source": [
    "Identity Operator\n",
    "\n",
    "is \n",
    "is not"
   ]
  },
  {
   "cell_type": "code",
   "execution_count": null,
   "id": "3d466160",
   "metadata": {},
   "outputs": [],
   "source": [
    "x = 'hello'\n",
    "y = 'hello'\n",
    "if(x == y):\n",
    "    print(\"Yes!!!\")\n",
    "    \n",
    "#If in both of them points to the same memory location\n",
    "\n",
    "print(id(x)) # --> id is used to get memory location\n",
    "print(id(y))\n",
    "\n",
    "y = 6\n",
    "print(id(x))\n",
    "print(id(y))"
   ]
  },
  {
   "cell_type": "raw",
   "id": "b325f02e",
   "metadata": {},
   "source": [
    "Assignment Operator\n",
    "\n",
    "=\n",
    "+=\n",
    "-=\n",
    "*=\n",
    "/+\n",
    "%="
   ]
  },
  {
   "cell_type": "code",
   "execution_count": null,
   "id": "aa03db58",
   "metadata": {},
   "outputs": [],
   "source": [
    "strings = 'hello'\n",
    "if('e' in strings):\n",
    "    print(\"yes\")\n",
    "else:\n",
    "    print(\"Nope\")\n",
    "\n",
    "if('e' not in strings):\n",
    "    print(\"No\")\n",
    "else:\n",
    "    print(\"byeeee\")"
   ]
  },
  {
   "cell_type": "markdown",
   "id": "955c35c7",
   "metadata": {},
   "source": [
    "## Conditional Statements"
   ]
  },
  {
   "cell_type": "raw",
   "id": "0da4589c",
   "metadata": {},
   "source": [
    "if\n",
    "if-else\n",
    "if-elif-else"
   ]
  },
  {
   "cell_type": "code",
   "execution_count": null,
   "id": "ab8f87f5",
   "metadata": {
    "scrolled": true
   },
   "outputs": [],
   "source": [
    "a = 5\n",
    "b = 10\n",
    "if(a>b):\n",
    "    print(\"hello\")\n",
    "else:\n",
    "    pass\n",
    "print(\"Bye\")\n",
    "\n",
    "# We use pass if we dont want to mention anything in else part"
   ]
  },
  {
   "cell_type": "code",
   "execution_count": null,
   "id": "4106b09a",
   "metadata": {},
   "outputs": [],
   "source": [
    "u = 5\n",
    "print(id(u))\n",
    "u = 7\n",
    "print(id(u))"
   ]
  },
  {
   "cell_type": "raw",
   "id": "560cf639",
   "metadata": {},
   "source": [
    "Why does python make some data types immutable?"
   ]
  },
  {
   "cell_type": "markdown",
   "id": "d28b7672",
   "metadata": {},
   "source": [
    "## Mutable & Immutable"
   ]
  },
  {
   "cell_type": "raw",
   "id": "8784c3e9",
   "metadata": {},
   "source": [
    "Immutable - Unchangeable\n",
    "Mutable - Changeable / Edit\n",
    "\n",
    "immuntable --> string, float, integer, bool, tuple\n",
    "mutable --> list, set, dictionary\n",
    "\n",
    "1. Immutable objects are quicker to access than mutable objects."
   ]
  },
  {
   "cell_type": "code",
   "execution_count": 6,
   "id": "d1deda9f",
   "metadata": {},
   "outputs": [
    {
     "ename": "NameError",
     "evalue": "name 'q' is not defined",
     "output_type": "error",
     "traceback": [
      "\u001b[1;31m---------------------------------------------------------------------------\u001b[0m",
      "\u001b[1;31mNameError\u001b[0m                                 Traceback (most recent call last)",
      "\u001b[1;32m<ipython-input-6-6c00815e897e>\u001b[0m in \u001b[0;36m<module>\u001b[1;34m\u001b[0m\n\u001b[0;32m      6\u001b[0m \"\"\"\n\u001b[0;32m      7\u001b[0m \u001b[1;33m\u001b[0m\u001b[0m\n\u001b[1;32m----> 8\u001b[1;33m \u001b[0mq\u001b[0m \u001b[1;33m=\u001b[0m \u001b[1;34m'j'\u001b[0m\u001b[1;33m+\u001b[0m\u001b[0mq\u001b[0m\u001b[1;33m[\u001b[0m\u001b[1;36m1\u001b[0m\u001b[1;33m:\u001b[0m\u001b[1;33m]\u001b[0m\u001b[1;33m\u001b[0m\u001b[1;33m\u001b[0m\u001b[0m\n\u001b[0m\u001b[0;32m      9\u001b[0m \u001b[0mprint\u001b[0m\u001b[1;33m(\u001b[0m\u001b[0mq\u001b[0m\u001b[1;33m)\u001b[0m\u001b[1;33m\u001b[0m\u001b[1;33m\u001b[0m\u001b[0m\n",
      "\u001b[1;31mNameError\u001b[0m: name 'q' is not defined"
     ]
    }
   ],
   "source": [
    "#String are immutable\n",
    "\"\"\"\n",
    "q = 'Hello'\n",
    "q[0]='j'\n",
    "print(q)\n",
    "\"\"\"\n",
    "\n",
    "q = 'j'+q[1:]\n",
    "print(q)"
   ]
  },
  {
   "cell_type": "markdown",
   "id": "f8791de1",
   "metadata": {},
   "source": [
    "## Loops"
   ]
  },
  {
   "cell_type": "raw",
   "id": "ddba647d",
   "metadata": {},
   "source": [
    "While\n",
    "For"
   ]
  },
  {
   "cell_type": "markdown",
   "id": "4fac5d0d",
   "metadata": {},
   "source": [
    "## Data Structures"
   ]
  },
  {
   "cell_type": "raw",
   "id": "4cde994c",
   "metadata": {},
   "source": [
    "1. List\n",
    "2. Tuple\n",
    "3. Set\n",
    "4. Dictionary\n",
    "\n",
    "Each of these is a class"
   ]
  },
  {
   "cell_type": "code",
   "execution_count": null,
   "id": "8bdc6389",
   "metadata": {},
   "outputs": [],
   "source": [
    "arr1 =[1,2,3,4]\n",
    "arr2 =[1,2,3,4]\n",
    "print(id(arr1))\n",
    "print(id(arr2))"
   ]
  },
  {
   "cell_type": "raw",
   "id": "90b9f028",
   "metadata": {},
   "source": [
    "LIST\n",
    "\n",
    "WE SHOULD NEVER USE LIST IN ML AS TIME TAKEN TO ACCESS DATA IS MORE\n",
    "USE NP.ARRAY INSTEAD\n",
    "\n",
    "SINCE LIST CAN HOLD DIFFERENT DATA TYPES FOR EACH DATA IT WILL STORE TYPE,LENGTH, LOCATION WERE THE VALUE IS STORED. THATS WHY ITS CONSIDERED AS INEFFICIENT METHOD."
   ]
  },
  {
   "cell_type": "code",
   "execution_count": null,
   "id": "d03c6a33",
   "metadata": {},
   "outputs": [],
   "source": [
    "list =[1,2,3,4.5,'hello']\n",
    "print(list)\n",
    "print(id(list))\n",
    "\n",
    "list[3]=9.5\n",
    "print(list)\n",
    "print(id(list))\n",
    "print(type(list))"
   ]
  },
  {
   "cell_type": "code",
   "execution_count": null,
   "id": "3984b63d",
   "metadata": {},
   "outputs": [],
   "source": [
    "li1 = [1,2,3]\n",
    "li2 = [4,5,6]\n",
    "li3 = [7,8,9]\n",
    "\n",
    "li1.append(li2)\n",
    "print(li1)\n",
    "\n",
    "li2.extend(li3)\n",
    "print(li2)\n",
    "print(len(li2))\n",
    "\n",
    "li3.insert(2,10) # (index,value)\n",
    "print(li3)\n",
    "\n",
    "li3.pop() #index is passed or last element comes out\n",
    "print(li3)\n",
    "\n",
    "li3.remove(10) #value\n",
    "print(li3)\n",
    "\n",
    "li1.clear()\n",
    "print(li1)\n",
    "\n",
    "li4 = [5,5,5,5,5,5,5]\n",
    "print(li4.count(5))\n",
    "\n",
    "print(li2.index(5))"
   ]
  },
  {
   "cell_type": "code",
   "execution_count": null,
   "id": "47635de2",
   "metadata": {},
   "outputs": [],
   "source": [
    "#SORT\n",
    "# SAME DATATYPE \n",
    "# --> int and float can be sorted\n",
    "li5 = [100,500,250,5460,9826,162]\n",
    "li5.sort()\n",
    "print(li5)\n",
    "\n",
    "li6 = [10.5,10,3.7,9.8]\n",
    "li6.sort()\n",
    "print(li6)"
   ]
  },
  {
   "cell_type": "raw",
   "id": "921b187a",
   "metadata": {},
   "source": [
    "GIVEN A LIST OF STRINGS (CONSIDER CAR NAMES), SORT THE STRINGS IN THE DESCENDING ORDER OF\n",
    "VOWELS \n",
    "Use inbuilt sort function of list ONLY!\n",
    "\n",
    "Tesla Model S Toyota GT86 2013 Ford Fiesta ST (and 2018) BMW i8 Alfa Romeo Giulia QV 2017 Honda Civic Type R Ferrari 458 Speciale McLaren P1 Ferrari LaFerrari Porsche 918."
   ]
  },
  {
   "cell_type": "code",
   "execution_count": 7,
   "id": "adf9bea9",
   "metadata": {},
   "outputs": [
    {
     "name": "stdout",
     "output_type": "stream",
     "text": [
      "['Alfa Romeo Giulia QV', 'Ferrari 458 Speciale', 'Ferrari LaFerrari', '2013 Ford Fiesta ST (and 2018)', '2017 Honda Civic Type R', 'Tesla Model S', 'Toyota GT86', 'McLaren P1', 'Porsche 918', 'BMW i8']\n"
     ]
    }
   ],
   "source": [
    "def countVowels(x):\n",
    "    count=0\n",
    "    for i in x.lower():\n",
    "        if i in ['a','e','i','o','u']:\n",
    "                 count += 1\n",
    "    return count\n",
    "\n",
    "list_of_strings = [\"Tesla Model S\",\"Toyota GT86\",\"2013 Ford Fiesta ST (and 2018)\",\"BMW i8\",\n",
    " \"Alfa Romeo Giulia QV\",\"2017 Honda Civic Type R\",\"Ferrari 458 Speciale\",\n",
    " \"McLaren P1\",\"Ferrari LaFerrari\",\"Porsche 918\"]\n",
    "\n",
    "list_of_strings.sort(key=countVowels, reverse=True)\n",
    "\n",
    "print(list_of_strings)"
   ]
  },
  {
   "cell_type": "code",
   "execution_count": 8,
   "id": "6762cfd3",
   "metadata": {},
   "outputs": [
    {
     "name": "stdout",
     "output_type": "stream",
     "text": [
      "(1, 2, 3, 4, 5)\n",
      "<class 'tuple'>\n"
     ]
    }
   ],
   "source": [
    "#Tuple\n",
    "t = (1,2,3,4,5)\n",
    "print(t)\n",
    "print(type(t))\n",
    "\n",
    "# --> We can only print them\n",
    "# we cannot do any operations as its immutable"
   ]
  },
  {
   "cell_type": "code",
   "execution_count": 9,
   "id": "9569c873",
   "metadata": {},
   "outputs": [
    {
     "name": "stdout",
     "output_type": "stream",
     "text": [
      "[1, 2, 3, 4, 5]\n"
     ]
    }
   ],
   "source": [
    "tupleToList = list(t)\n",
    "print(tupleToList)"
   ]
  },
  {
   "cell_type": "code",
   "execution_count": 10,
   "id": "a7d620c2",
   "metadata": {
    "scrolled": true
   },
   "outputs": [
    {
     "name": "stdout",
     "output_type": "stream",
     "text": [
      "<class 'set'>\n",
      "{1, 2, 3, 4, 'hello'}\n",
      "set()\n",
      "{1, 2, 3, 4, 10, 'hello'}\n",
      "{1, 2, 3, 4, 10, 'bye', 'hello'}\n",
      "{1, 2, 3, 4, 10, 'bye', 'hello'}\n",
      "{1, 2, 3, 4, 5, 6, 10, 'bye', 'hello'}\n",
      "{1, 2, 3, 5, 6, 10, 'bye', 'hello'}\n",
      "{1, 2, 3, 6, 10, 'bye', 'hello'}\n"
     ]
    }
   ],
   "source": [
    "# SET\n",
    "# --> Its a collection of unique elements. No duplicates. mutable\n",
    "# --> it can store only primitive data type\n",
    "#Set, FrozenSet\n",
    "s1 = {1,2,3,4,\"hello\"}\n",
    "print(type(s1))\n",
    "print(s1)\n",
    "\n",
    "s2 = set()\n",
    "print(s2)\n",
    "\n",
    "s1.add(10)\n",
    "print(s1)\n",
    "s1.add(\"bye\")\n",
    "print(s1)\n",
    "s1.add(10)\n",
    "print(s1)\n",
    "\n",
    "list1 = [4,5,6]\n",
    "s1.update(list1)\n",
    "print(s1)\n",
    "\n",
    "s1.discard(4) # discard wont give error if theres no element\n",
    "print(s1)\n",
    "\n",
    "s1.remove(5)\n",
    "print(s1)"
   ]
  },
  {
   "cell_type": "code",
   "execution_count": 11,
   "id": "ea3c1029",
   "metadata": {},
   "outputs": [
    {
     "name": "stdout",
     "output_type": "stream",
     "text": [
      "True\n",
      "False\n"
     ]
    }
   ],
   "source": [
    "set1 = {1,2,3,4,5}\n",
    "set2 = {4,5,6,7,8}\n",
    "print(set1.issuperset(s2))\n",
    "print(set1.issubset(s2))"
   ]
  },
  {
   "cell_type": "code",
   "execution_count": 12,
   "id": "d7956bae",
   "metadata": {},
   "outputs": [
    {
     "name": "stdout",
     "output_type": "stream",
     "text": [
      "{1, 2, 3, 4, 5, 6, 7}\n",
      "{4}\n",
      "{1, 2, 3}\n"
     ]
    }
   ],
   "source": [
    "set1 = {1,2,3,4}\n",
    "set2 = {4,5,6,7}\n",
    "print(set1.union(set2))\n",
    "print(set1.intersection(set2))\n",
    "print(set1.difference(set2))"
   ]
  },
  {
   "cell_type": "raw",
   "id": "4d003477",
   "metadata": {},
   "source": [
    "Assignment\n",
    "Every valid email consists of a local name and a domain name, separated by the '@' sign. Besides lowercase letters, the email may contain one or more '.' or '+'.\n",
    "\n",
    "For example, in \"alice@leetcode.com\", \"alice\" is the local name, and \"leetcode.com\" is the domain name.\n",
    "If you add periods '.' between some characters in the local name part of an email address, mail sent there will be forwarded to the same address without dots in the local name. Note that this rule does not apply to domain names.\n",
    "\n",
    "For example, \"alice.z@leetcode.com\" and \"alicez@leetcode.com\" forward to the same email address.\n",
    "If you add a plus '+' in the local name, everything after the first plus sign will be ignored. This allows certain emails to be filtered. Note that this rule does not apply to domain names.\n",
    "\n",
    "For example, \"m.y+name@email.com\" will be forwarded to \"my@email.com\"."
   ]
  },
  {
   "cell_type": "code",
   "execution_count": 13,
   "id": "d69b2cb5",
   "metadata": {},
   "outputs": [
    {
     "name": "stdout",
     "output_type": "stream",
     "text": [
      "jack @ gmail.com\n",
      "jack @ gmail.com\n",
      "jack @ gmail.com\n",
      "1\n"
     ]
    }
   ],
   "source": [
    "def uniqueEmails(input_str):\n",
    "    uniqueMails = set()\n",
    "    for email in input_str:\n",
    "        local,domain = email.split(\"@\")\n",
    "        local = local.split(\"+\")[0]\n",
    "        local = local.replace(\".\",\"\")\n",
    "        print(local,\"@\",domain)\n",
    "        local = local+\"@\"+domain\n",
    "        uniqueMails.add(local)\n",
    "    return len(uniqueMails)\n",
    "input_str = [\"jack@gmail.com\", \"ja.c.k@gmail.com\", \"ja.c.k+jill@gmail.com\"]\n",
    "print(uniqueEmails(input_str))"
   ]
  },
  {
   "cell_type": "code",
   "execution_count": 14,
   "id": "84ff0bf2",
   "metadata": {},
   "outputs": [],
   "source": [
    "#Set works on the concept of hashing\n",
    "# --> Unordered -->hashed elements\n",
    "# hashing stores only unique elements thats why list and tuple do not have hashing"
   ]
  },
  {
   "cell_type": "code",
   "execution_count": 15,
   "id": "51cf734a",
   "metadata": {},
   "outputs": [
    {
     "name": "stdout",
     "output_type": "stream",
     "text": [
      "Positive\n",
      "None\n",
      "{'Good': 'Positive', 'Bad': 'Negative', 'Great': 'Positive', 'Evil': 'Negative'}\n",
      "{'Good': 'Positive', 'Great': 'Positive', 'Evil': 'Negative'}\n"
     ]
    }
   ],
   "source": [
    "#Dictionary\n",
    "dict = {}\n",
    "dict = {\"Good\":\"Positive\", \"Bad\":\"Negative\", \"Great\":\"Positive\", \"Evil\":\"Negative\"}\n",
    "# --> dictionary is a hashable key value pairs\n",
    "# --> keys cannot be repeated, but values can be repeated\n",
    "# --> Unordered\n",
    "# --> key and values can have any datatype \n",
    "\n",
    "print(dict[\"Good\"])\n",
    "print(dict.get(\"A\")) #--> unavailable it will give none.\n",
    "print(dict)\n",
    "\n",
    "del dict[\"Bad\"]\n",
    "print(dict)\n"
   ]
  },
  {
   "cell_type": "code",
   "execution_count": 16,
   "id": "b141dfca",
   "metadata": {},
   "outputs": [
    {
     "name": "stdout",
     "output_type": "stream",
     "text": [
      "9.7\n"
     ]
    }
   ],
   "source": [
    "d = {\n",
    "  \"location\": {\n",
    "    \"name\": \"London\",\n",
    "    \"region\": \"City of London, Greater London\",\n",
    "    \"country\": \"United Kingdom\",\n",
    "    \"lat\": 51.52,\n",
    "    \"lon\": -0.11,\n",
    "    \"tz_id\": \"Europe/London\",\n",
    "    \"localtime_epoch\": 1572750389,\n",
    "    \"localtime\": \"2019-11-03 3:06\"\n",
    "  },\n",
    "  \"forecast\": {\n",
    "    \"forecastday\": [\n",
    "      {\n",
    "        \"date\": \"2018-01-31\",\n",
    "        \"date_epoch\": 1517356800,\n",
    "        \"day\": {\n",
    "          \"maxtemp_c\": 9.7,\n",
    "          \"maxtemp_f\": 49.5,\n",
    "          \"mintemp_c\": 4.5,\n",
    "          \"mintemp_f\": 40,\n",
    "          \"avgtemp_c\": 7.8,\n",
    "          \"avgtemp_f\": 46,\n",
    "          \"maxwind_mph\": 17.7,\n",
    "          \"maxwind_kph\": 28.4,\n",
    "          \"totalprecip_mm\": 0.22,\n",
    "          \"totalprecip_in\": 0.01,\n",
    "          \"avgvis_km\": 9,\n",
    "          \"avgvis_miles\": 5,\n",
    "          \"avghumidity\": 69,\n",
    "          \"condition\": {\n",
    "            \"text\": \"Sunny\",\n",
    "            \"icon\": \"//cdn.weatherapi.com/weather/64x64/day/113.png\",\n",
    "            \"code\": 1000\n",
    "          },\n",
    "          \"uv\": 0\n",
    "        },\n",
    "        \"astro\": {\n",
    "          \"sunrise\": \"07:41 AM\",\n",
    "          \"sunset\": \"04:48 PM\",\n",
    "          \"moonrise\": \"04:55 PM\",\n",
    "          \"moonset\": \"07:33 AM\",\n",
    "          \"moon_phase\": \"Waxing Gibbous\",\n",
    "          \"moon_illumination\": \"97\"\n",
    "        },\n",
    "        \"hour\": [\n",
    "          {\n",
    "            \"time_epoch\": 1517356800,\n",
    "            \"time\": \"2018-01-31 00:00\",\n",
    "            \"temp_c\": 9.6,\n",
    "            \"temp_f\": 49.3,\n",
    "            \"is_day\": 0,\n",
    "            \"condition\": {\n",
    "              \"text\": \"Overcast\",\n",
    "              \"icon\": \"//cdn.weatherapi.com/weather/64x64/night/122.png\",\n",
    "              \"code\": 1009\n",
    "            },\n",
    "            \"wind_mph\": 14.3,\n",
    "            \"wind_kph\": 23,\n",
    "            \"wind_degree\": 231,\n",
    "            \"wind_dir\": \"SW\",\n",
    "            \"pressure_mb\": 1013,\n",
    "            \"pressure_in\": 30.4,\n",
    "            \"precip_mm\": 0,\n",
    "            \"precip_in\": 0,\n",
    "            \"humidity\": 90,\n",
    "            \"cloud\": 100,\n",
    "            \"feelslike_c\": 6.6,\n",
    "            \"feelslike_f\": 43.9,\n",
    "            \"windchill_c\": 6.6,\n",
    "            \"windchill_f\": 43.9,\n",
    "            \"heatindex_c\": 9.6,\n",
    "            \"heatindex_f\": 49.3,\n",
    "            \"dewpoint_c\": 8,\n",
    "            \"dewpoint_f\": 46.4,\n",
    "            \"will_it_rain\": 0,\n",
    "            \"chance_of_rain\": \"0\",\n",
    "            \"will_it_snow\": 0,\n",
    "            \"chance_of_snow\": \"0\",\n",
    "            \"vis_km\": 10,\n",
    "            \"vis_miles\": 6\n",
    "          },\n",
    "          {\n",
    "            \"time_epoch\": 1517360400,\n",
    "            \"time\": \"2018-01-31 01:00\",\n",
    "            \"temp_c\": 9.7,\n",
    "            \"temp_f\": 49.4,\n",
    "            \"is_day\": 0,\n",
    "            \"condition\": {\n",
    "              \"text\": \"Overcast\",\n",
    "              \"icon\": \"//cdn.weatherapi.com/weather/64x64/night/122.png\",\n",
    "              \"code\": 1009\n",
    "            },\n",
    "            \"wind_mph\": 15.2,\n",
    "            \"wind_kph\": 24.5,\n",
    "            \"wind_degree\": 234,\n",
    "            \"wind_dir\": \"SW\",\n",
    "            \"pressure_mb\": 1012,\n",
    "            \"pressure_in\": 30.4,\n",
    "            \"precip_mm\": 0,\n",
    "            \"precip_in\": 0,\n",
    "            \"humidity\": 86,\n",
    "            \"cloud\": 100,\n",
    "            \"feelslike_c\": 6.5,\n",
    "            \"feelslike_f\": 43.7,\n",
    "            \"windchill_c\": 6.5,\n",
    "            \"windchill_f\": 43.7,\n",
    "            \"heatindex_c\": 9.6,\n",
    "            \"heatindex_f\": 49.3,\n",
    "            \"dewpoint_c\": 7.4,\n",
    "            \"dewpoint_f\": 45.2,\n",
    "            \"will_it_rain\": 0,\n",
    "            \"chance_of_rain\": \"3\",\n",
    "            \"will_it_snow\": 0,\n",
    "            \"chance_of_snow\": \"0\",\n",
    "            \"vis_km\": 10,\n",
    "            \"vis_miles\": 6\n",
    "          },\n",
    "          {\n",
    "            \"time_epoch\": 1517364000,\n",
    "            \"time\": \"2018-01-31 02:00\",\n",
    "            \"temp_c\": 9.7,\n",
    "            \"temp_f\": 49.4,\n",
    "            \"is_day\": 0,\n",
    "            \"condition\": {\n",
    "              \"text\": \"Overcast\",\n",
    "              \"icon\": \"//cdn.weatherapi.com/weather/64x64/night/122.png\",\n",
    "              \"code\": 1009\n",
    "            },\n",
    "            \"wind_mph\": 16.1,\n",
    "            \"wind_kph\": 25.9,\n",
    "            \"wind_degree\": 237,\n",
    "            \"wind_dir\": \"WSW\",\n",
    "            \"pressure_mb\": 1011,\n",
    "            \"pressure_in\": 30.3,\n",
    "            \"precip_mm\": 0,\n",
    "            \"precip_in\": 0,\n",
    "            \"humidity\": 82,\n",
    "            \"cloud\": 100,\n",
    "            \"feelslike_c\": 6.4,\n",
    "            \"feelslike_f\": 43.6,\n",
    "            \"windchill_c\": 6.4,\n",
    "            \"windchill_f\": 43.6,\n",
    "            \"heatindex_c\": 9.7,\n",
    "            \"heatindex_f\": 49.4,\n",
    "            \"dewpoint_c\": 6.7,\n",
    "            \"dewpoint_f\": 44.1,\n",
    "            \"will_it_rain\": 0,\n",
    "            \"chance_of_rain\": \"3\",\n",
    "            \"will_it_snow\": 0,\n",
    "            \"chance_of_snow\": \"0\",\n",
    "            \"vis_km\": 10,\n",
    "            \"vis_miles\": 6\n",
    "          },\n",
    "          {\n",
    "            \"time_epoch\": 1517367600,\n",
    "            \"time\": \"2018-01-31 03:00\",\n",
    "            \"temp_c\": 9.7,\n",
    "            \"temp_f\": 49.5,\n",
    "            \"is_day\": 0,\n",
    "            \"condition\": {\n",
    "              \"text\": \"Overcast\",\n",
    "              \"icon\": \"//cdn.weatherapi.com/weather/64x64/night/122.png\",\n",
    "              \"code\": 1009\n",
    "            },\n",
    "            \"wind_mph\": 17,\n",
    "            \"wind_kph\": 27.4,\n",
    "            \"wind_degree\": 240,\n",
    "            \"wind_dir\": \"WSW\",\n",
    "            \"pressure_mb\": 1010,\n",
    "            \"pressure_in\": 30.3,\n",
    "            \"precip_mm\": 0,\n",
    "            \"precip_in\": 0,\n",
    "            \"humidity\": 78,\n",
    "            \"cloud\": 100,\n",
    "            \"feelslike_c\": 6.4,\n",
    "            \"feelslike_f\": 43.5,\n",
    "            \"windchill_c\": 6.4,\n",
    "            \"windchill_f\": 43.5,\n",
    "            \"heatindex_c\": 9.7,\n",
    "            \"heatindex_f\": 49.5,\n",
    "            \"dewpoint_c\": 6,\n",
    "            \"dewpoint_f\": 42.9,\n",
    "            \"will_it_rain\": 0,\n",
    "            \"chance_of_rain\": \"0\",\n",
    "            \"will_it_snow\": 0,\n",
    "            \"chance_of_snow\": \"0\",\n",
    "            \"vis_km\": 10,\n",
    "            \"vis_miles\": 6\n",
    "          },\n",
    "          {\n",
    "            \"time_epoch\": 1517371200,\n",
    "            \"time\": \"2018-01-31 04:00\",\n",
    "            \"temp_c\": 9.3,\n",
    "            \"temp_f\": 48.8,\n",
    "            \"is_day\": 0,\n",
    "            \"condition\": {\n",
    "              \"text\": \"Overcast\",\n",
    "              \"icon\": \"//cdn.weatherapi.com/weather/64x64/night/122.png\",\n",
    "              \"code\": 1009\n",
    "            },\n",
    "            \"wind_mph\": 15.7,\n",
    "            \"wind_kph\": 25.3,\n",
    "            \"wind_degree\": 239,\n",
    "            \"wind_dir\": \"WSW\",\n",
    "            \"pressure_mb\": 1009,\n",
    "            \"pressure_in\": 30.3,\n",
    "            \"precip_mm\": 0,\n",
    "            \"precip_in\": 0,\n",
    "            \"humidity\": 78,\n",
    "            \"cloud\": 100,\n",
    "            \"feelslike_c\": 6.1,\n",
    "            \"feelslike_f\": 42.9,\n",
    "            \"windchill_c\": 6.1,\n",
    "            \"windchill_f\": 42.9,\n",
    "            \"heatindex_c\": 9.3,\n",
    "            \"heatindex_f\": 48.8,\n",
    "            \"dewpoint_c\": 5.8,\n",
    "            \"dewpoint_f\": 42.4,\n",
    "            \"will_it_rain\": 0,\n",
    "            \"chance_of_rain\": \"3\",\n",
    "            \"will_it_snow\": 0,\n",
    "            \"chance_of_snow\": \"0\",\n",
    "            \"vis_km\": 10,\n",
    "            \"vis_miles\": 6\n",
    "          },\n",
    "          {\n",
    "            \"time_epoch\": 1517374800,\n",
    "            \"time\": \"2018-01-31 05:00\",\n",
    "            \"temp_c\": 8.9,\n",
    "            \"temp_f\": 48.1,\n",
    "            \"is_day\": 0,\n",
    "            \"condition\": {\n",
    "              \"text\": \"Overcast\",\n",
    "              \"icon\": \"//cdn.weatherapi.com/weather/64x64/night/122.png\",\n",
    "              \"code\": 1009\n",
    "            },\n",
    "            \"wind_mph\": 14.5,\n",
    "            \"wind_kph\": 23.3,\n",
    "            \"wind_degree\": 239,\n",
    "            \"wind_dir\": \"WSW\",\n",
    "            \"pressure_mb\": 1008,\n",
    "            \"pressure_in\": 30.2,\n",
    "            \"precip_mm\": 0,\n",
    "            \"precip_in\": 0,\n",
    "            \"humidity\": 79,\n",
    "            \"cloud\": 100,\n",
    "            \"feelslike_c\": 5.8,\n",
    "            \"feelslike_f\": 42.4,\n",
    "            \"windchill_c\": 5.8,\n",
    "            \"windchill_f\": 42.4,\n",
    "            \"heatindex_c\": 9,\n",
    "            \"heatindex_f\": 48.1,\n",
    "            \"dewpoint_c\": 5.5,\n",
    "            \"dewpoint_f\": 41.8,\n",
    "            \"will_it_rain\": 0,\n",
    "            \"chance_of_rain\": \"3\",\n",
    "            \"will_it_snow\": 0,\n",
    "            \"chance_of_snow\": \"0\",\n",
    "            \"vis_km\": 10,\n",
    "            \"vis_miles\": 6\n",
    "          },\n",
    "          {\n",
    "            \"time_epoch\": 1517378400,\n",
    "            \"time\": \"2018-01-31 06:00\",\n",
    "            \"temp_c\": 8.6,\n",
    "            \"temp_f\": 47.4,\n",
    "            \"is_day\": 0,\n",
    "            \"condition\": {\n",
    "              \"text\": \"Overcast\",\n",
    "              \"icon\": \"//cdn.weatherapi.com/weather/64x64/night/122.png\",\n",
    "              \"code\": 1009\n",
    "            },\n",
    "            \"wind_mph\": 13.2,\n",
    "            \"wind_kph\": 21.2,\n",
    "            \"wind_degree\": 238,\n",
    "            \"wind_dir\": \"WSW\",\n",
    "            \"pressure_mb\": 1007,\n",
    "            \"pressure_in\": 30.2,\n",
    "            \"precip_mm\": 0,\n",
    "            \"precip_in\": 0,\n",
    "            \"humidity\": 79,\n",
    "            \"cloud\": 100,\n",
    "            \"feelslike_c\": 5.5,\n",
    "            \"feelslike_f\": 41.9,\n",
    "            \"windchill_c\": 5.5,\n",
    "            \"windchill_f\": 41.9,\n",
    "            \"heatindex_c\": 8.6,\n",
    "            \"heatindex_f\": 47.5,\n",
    "            \"dewpoint_c\": 5.2,\n",
    "            \"dewpoint_f\": 41.3,\n",
    "            \"will_it_rain\": 0,\n",
    "            \"chance_of_rain\": \"0\",\n",
    "            \"will_it_snow\": 0,\n",
    "            \"chance_of_snow\": \"0\",\n",
    "            \"vis_km\": 10,\n",
    "            \"vis_miles\": 6\n",
    "          },\n",
    "          {\n",
    "            \"time_epoch\": 1517382000,\n",
    "            \"time\": \"2018-01-31 07:00\",\n",
    "            \"temp_c\": 8.6,\n",
    "            \"temp_f\": 47.5,\n",
    "            \"is_day\": 0,\n",
    "            \"condition\": {\n",
    "              \"text\": \"Overcast\",\n",
    "              \"icon\": \"//cdn.weatherapi.com/weather/64x64/night/122.png\",\n",
    "              \"code\": 1009\n",
    "            },\n",
    "            \"wind_mph\": 14.6,\n",
    "            \"wind_kph\": 23.5,\n",
    "            \"wind_degree\": 243,\n",
    "            \"wind_dir\": \"WSW\",\n",
    "            \"pressure_mb\": 1006,\n",
    "            \"pressure_in\": 30.2,\n",
    "            \"precip_mm\": 0,\n",
    "            \"precip_in\": 0,\n",
    "            \"humidity\": 78,\n",
    "            \"cloud\": 100,\n",
    "            \"feelslike_c\": 5.4,\n",
    "            \"feelslike_f\": 41.7,\n",
    "            \"windchill_c\": 5.4,\n",
    "            \"windchill_f\": 41.7,\n",
    "            \"heatindex_c\": 8.7,\n",
    "            \"heatindex_f\": 47.6,\n",
    "            \"dewpoint_c\": 5.1,\n",
    "            \"dewpoint_f\": 41.2,\n",
    "            \"will_it_rain\": 0,\n",
    "            \"chance_of_rain\": \"3\",\n",
    "            \"will_it_snow\": 0,\n",
    "            \"chance_of_snow\": \"0\",\n",
    "            \"vis_km\": 7.3,\n",
    "            \"vis_miles\": 4\n",
    "          },\n",
    "          {\n",
    "            \"time_epoch\": 1517385600,\n",
    "            \"time\": \"2018-01-31 08:00\",\n",
    "            \"temp_c\": 8.7,\n",
    "            \"temp_f\": 47.7,\n",
    "            \"is_day\": 1,\n",
    "            \"condition\": {\n",
    "              \"text\": \"Light drizzle\",\n",
    "              \"icon\": \"//cdn.weatherapi.com/weather/64x64/day/266.png\",\n",
    "              \"code\": 1153\n",
    "            },\n",
    "            \"wind_mph\": 16,\n",
    "            \"wind_kph\": 25.8,\n",
    "            \"wind_degree\": 248,\n",
    "            \"wind_dir\": \"WSW\",\n",
    "            \"pressure_mb\": 1006,\n",
    "            \"pressure_in\": 30.2,\n",
    "            \"precip_mm\": 0.07,\n",
    "            \"precip_in\": 0,\n",
    "            \"humidity\": 77,\n",
    "            \"cloud\": 100,\n",
    "            \"feelslike_c\": 5.3,\n",
    "            \"feelslike_f\": 41.5,\n",
    "            \"windchill_c\": 5.3,\n",
    "            \"windchill_f\": 41.5,\n",
    "            \"heatindex_c\": 8.7,\n",
    "            \"heatindex_f\": 47.7,\n",
    "            \"dewpoint_c\": 5,\n",
    "            \"dewpoint_f\": 41,\n",
    "            \"will_it_rain\": 0,\n",
    "            \"chance_of_rain\": \"51\",\n",
    "            \"will_it_snow\": 0,\n",
    "            \"chance_of_snow\": \"0\",\n",
    "            \"vis_km\": 4.7,\n",
    "            \"vis_miles\": 2\n",
    "          },\n",
    "          {\n",
    "            \"time_epoch\": 1517389200,\n",
    "            \"time\": \"2018-01-31 09:00\",\n",
    "            \"temp_c\": 8.8,\n",
    "            \"temp_f\": 47.8,\n",
    "            \"is_day\": 1,\n",
    "            \"condition\": {\n",
    "              \"text\": \"Light drizzle\",\n",
    "              \"icon\": \"//cdn.weatherapi.com/weather/64x64/day/266.png\",\n",
    "              \"code\": 1153\n",
    "            },\n",
    "            \"wind_mph\": 17.4,\n",
    "            \"wind_kph\": 28.1,\n",
    "            \"wind_degree\": 253,\n",
    "            \"wind_dir\": \"WSW\",\n",
    "            \"pressure_mb\": 1006,\n",
    "            \"pressure_in\": 30.2,\n",
    "            \"precip_mm\": 0.1,\n",
    "            \"precip_in\": 0,\n",
    "            \"humidity\": 77,\n",
    "            \"cloud\": 100,\n",
    "            \"feelslike_c\": 5.2,\n",
    "            \"feelslike_f\": 41.3,\n",
    "            \"windchill_c\": 5.2,\n",
    "            \"windchill_f\": 41.3,\n",
    "            \"heatindex_c\": 8.8,\n",
    "            \"heatindex_f\": 47.8,\n",
    "            \"dewpoint_c\": 4.9,\n",
    "            \"dewpoint_f\": 40.9,\n",
    "            \"will_it_rain\": 0,\n",
    "            \"chance_of_rain\": \"0\",\n",
    "            \"will_it_snow\": 0,\n",
    "            \"chance_of_snow\": \"0\",\n",
    "            \"vis_km\": 2,\n",
    "            \"vis_miles\": 1\n",
    "          },\n",
    "          {\n",
    "            \"time_epoch\": 1517392800,\n",
    "            \"time\": \"2018-01-31 10:00\",\n",
    "            \"temp_c\": 8.7,\n",
    "            \"temp_f\": 47.6,\n",
    "            \"is_day\": 1,\n",
    "            \"condition\": {\n",
    "              \"text\": \"Light drizzle\",\n",
    "              \"icon\": \"//cdn.weatherapi.com/weather/64x64/day/266.png\",\n",
    "              \"code\": 1153\n",
    "            },\n",
    "            \"wind_mph\": 16.6,\n",
    "            \"wind_kph\": 26.6,\n",
    "            \"wind_degree\": 258,\n",
    "            \"wind_dir\": \"WSW\",\n",
    "            \"pressure_mb\": 1005,\n",
    "            \"pressure_in\": 30.1,\n",
    "            \"precip_mm\": 0.05,\n",
    "            \"precip_in\": 0,\n",
    "            \"humidity\": 71,\n",
    "            \"cloud\": 95,\n",
    "            \"feelslike_c\": 5.1,\n",
    "            \"feelslike_f\": 41.2,\n",
    "            \"windchill_c\": 5.1,\n",
    "            \"windchill_f\": 41.2,\n",
    "            \"heatindex_c\": 8.7,\n",
    "            \"heatindex_f\": 47.6,\n",
    "            \"dewpoint_c\": 3.5,\n",
    "            \"dewpoint_f\": 38.4,\n",
    "            \"will_it_rain\": 0,\n",
    "            \"chance_of_rain\": \"51\",\n",
    "            \"will_it_snow\": 0,\n",
    "            \"chance_of_snow\": \"0\",\n",
    "            \"vis_km\": 4.7,\n",
    "            \"vis_miles\": 2\n",
    "          },\n",
    "          {\n",
    "            \"time_epoch\": 1517396400,\n",
    "            \"time\": \"2018-01-31 11:00\",\n",
    "            \"temp_c\": 8.5,\n",
    "            \"temp_f\": 47.3,\n",
    "            \"is_day\": 1,\n",
    "            \"condition\": {\n",
    "              \"text\": \"Cloudy\",\n",
    "              \"icon\": \"//cdn.weatherapi.com/weather/64x64/day/119.png\",\n",
    "              \"code\": 1006\n",
    "            },\n",
    "            \"wind_mph\": 15.7,\n",
    "            \"wind_kph\": 25.2,\n",
    "            \"wind_degree\": 263,\n",
    "            \"wind_dir\": \"W\",\n",
    "            \"pressure_mb\": 1004,\n",
    "            \"pressure_in\": 30.1,\n",
    "            \"precip_mm\": 0,\n",
    "            \"precip_in\": 0,\n",
    "            \"humidity\": 64,\n",
    "            \"cloud\": 90,\n",
    "            \"feelslike_c\": 5,\n",
    "            \"feelslike_f\": 41.1,\n",
    "            \"windchill_c\": 5,\n",
    "            \"windchill_f\": 41.1,\n",
    "            \"heatindex_c\": 8.5,\n",
    "            \"heatindex_f\": 47.4,\n",
    "            \"dewpoint_c\": 2.1,\n",
    "            \"dewpoint_f\": 35.9,\n",
    "            \"will_it_rain\": 0,\n",
    "            \"chance_of_rain\": \"2\",\n",
    "            \"will_it_snow\": 0,\n",
    "            \"chance_of_snow\": \"0\",\n",
    "            \"vis_km\": 7.3,\n",
    "            \"vis_miles\": 4\n",
    "          },\n",
    "          {\n",
    "            \"time_epoch\": 1517400000,\n",
    "            \"time\": \"2018-01-31 12:00\",\n",
    "            \"temp_c\": 8.4,\n",
    "            \"temp_f\": 47.1,\n",
    "            \"is_day\": 1,\n",
    "            \"condition\": {\n",
    "              \"text\": \"Cloudy\",\n",
    "              \"icon\": \"//cdn.weatherapi.com/weather/64x64/day/119.png\",\n",
    "              \"code\": 1006\n",
    "            },\n",
    "            \"wind_mph\": 14.8,\n",
    "            \"wind_kph\": 23.8,\n",
    "            \"wind_degree\": 268,\n",
    "            \"wind_dir\": \"W\",\n",
    "            \"pressure_mb\": 1004,\n",
    "            \"pressure_in\": 30.1,\n",
    "            \"precip_mm\": 0,\n",
    "            \"precip_in\": 0,\n",
    "            \"humidity\": 58,\n",
    "            \"cloud\": 85,\n",
    "            \"feelslike_c\": 5,\n",
    "            \"feelslike_f\": 41,\n",
    "            \"windchill_c\": 5,\n",
    "            \"windchill_f\": 41,\n",
    "            \"heatindex_c\": 8.4,\n",
    "            \"heatindex_f\": 47.1,\n",
    "            \"dewpoint_c\": 0.7,\n",
    "            \"dewpoint_f\": 33.3,\n",
    "            \"will_it_rain\": 0,\n",
    "            \"chance_of_rain\": \"0\",\n",
    "            \"will_it_snow\": 0,\n",
    "            \"chance_of_snow\": \"0\",\n",
    "            \"vis_km\": 10,\n",
    "            \"vis_miles\": 6\n",
    "          },\n",
    "          {\n",
    "            \"time_epoch\": 1517403600,\n",
    "            \"time\": \"2018-01-31 13:00\",\n",
    "            \"temp_c\": 8,\n",
    "            \"temp_f\": 46.4,\n",
    "            \"is_day\": 1,\n",
    "            \"condition\": {\n",
    "              \"text\": \"Cloudy\",\n",
    "              \"icon\": \"//cdn.weatherapi.com/weather/64x64/day/119.png\",\n",
    "              \"code\": 1006\n",
    "            },\n",
    "            \"wind_mph\": 15.7,\n",
    "            \"wind_kph\": 25.3,\n",
    "            \"wind_degree\": 270,\n",
    "            \"wind_dir\": \"W\",\n",
    "            \"pressure_mb\": 1003,\n",
    "            \"pressure_in\": 30.1,\n",
    "            \"precip_mm\": 0,\n",
    "            \"precip_in\": 0,\n",
    "            \"humidity\": 56,\n",
    "            \"cloud\": 61,\n",
    "            \"feelslike_c\": 4.4,\n",
    "            \"feelslike_f\": 39.9,\n",
    "            \"windchill_c\": 4.4,\n",
    "            \"windchill_f\": 39.9,\n",
    "            \"heatindex_c\": 8,\n",
    "            \"heatindex_f\": 46.5,\n",
    "            \"dewpoint_c\": -0.3,\n",
    "            \"dewpoint_f\": 31.6,\n",
    "            \"will_it_rain\": 0,\n",
    "            \"chance_of_rain\": \"2\",\n",
    "            \"will_it_snow\": 0,\n",
    "            \"chance_of_snow\": \"0\",\n",
    "            \"vis_km\": 10,\n",
    "            \"vis_miles\": 6\n",
    "          },\n",
    "          {\n",
    "            \"time_epoch\": 1517407200,\n",
    "            \"time\": \"2018-01-31 14:00\",\n",
    "            \"temp_c\": 7.7,\n",
    "            \"temp_f\": 45.8,\n",
    "            \"is_day\": 1,\n",
    "            \"condition\": {\n",
    "              \"text\": \"Sunny\",\n",
    "              \"icon\": \"//cdn.weatherapi.com/weather/64x64/day/113.png\",\n",
    "              \"code\": 1000\n",
    "            },\n",
    "            \"wind_mph\": 16.7,\n",
    "            \"wind_kph\": 26.9,\n",
    "            \"wind_degree\": 273,\n",
    "            \"wind_dir\": \"W\",\n",
    "            \"pressure_mb\": 1003,\n",
    "            \"pressure_in\": 30.1,\n",
    "            \"precip_mm\": 0,\n",
    "            \"precip_in\": 0,\n",
    "            \"humidity\": 53,\n",
    "            \"cloud\": 36,\n",
    "            \"feelslike_c\": 3.8,\n",
    "            \"feelslike_f\": 38.8,\n",
    "            \"windchill_c\": 3.8,\n",
    "            \"windchill_f\": 38.8,\n",
    "            \"heatindex_c\": 7.7,\n",
    "            \"heatindex_f\": 45.8,\n",
    "            \"dewpoint_c\": -1.2,\n",
    "            \"dewpoint_f\": 29.8,\n",
    "            \"will_it_rain\": 0,\n",
    "            \"chance_of_rain\": \"0\",\n",
    "            \"will_it_snow\": 0,\n",
    "            \"chance_of_snow\": \"0\",\n",
    "            \"vis_km\": 10,\n",
    "            \"vis_miles\": 6\n",
    "          },\n",
    "          {\n",
    "            \"time_epoch\": 1517410800,\n",
    "            \"time\": \"2018-01-31 15:00\",\n",
    "            \"temp_c\": 7.3,\n",
    "            \"temp_f\": 45.2,\n",
    "            \"is_day\": 1,\n",
    "            \"condition\": {\n",
    "              \"text\": \"Sunny\",\n",
    "              \"icon\": \"//cdn.weatherapi.com/weather/64x64/day/113.png\",\n",
    "              \"code\": 1000\n",
    "            },\n",
    "            \"wind_mph\": 17.7,\n",
    "            \"wind_kph\": 28.4,\n",
    "            \"wind_degree\": 276,\n",
    "            \"wind_dir\": \"W\",\n",
    "            \"pressure_mb\": 1003,\n",
    "            \"pressure_in\": 30.1,\n",
    "            \"precip_mm\": 0,\n",
    "            \"precip_in\": 0,\n",
    "            \"humidity\": 51,\n",
    "            \"cloud\": 12,\n",
    "            \"feelslike_c\": 3.2,\n",
    "            \"feelslike_f\": 37.7,\n",
    "            \"windchill_c\": 3.2,\n",
    "            \"windchill_f\": 37.7,\n",
    "            \"heatindex_c\": 7.3,\n",
    "            \"heatindex_f\": 45.1,\n",
    "            \"dewpoint_c\": -2.2,\n",
    "            \"dewpoint_f\": 28,\n",
    "            \"will_it_rain\": 0,\n",
    "            \"chance_of_rain\": \"0\",\n",
    "            \"will_it_snow\": 0,\n",
    "            \"chance_of_snow\": \"0\",\n",
    "            \"vis_km\": 10,\n",
    "            \"vis_miles\": 6\n",
    "          },\n",
    "          {\n",
    "            \"time_epoch\": 1517414400,\n",
    "            \"time\": \"2018-01-31 16:00\",\n",
    "            \"temp_c\": 6.6,\n",
    "            \"temp_f\": 43.9,\n",
    "            \"is_day\": 1,\n",
    "            \"condition\": {\n",
    "              \"text\": \"Sunny\",\n",
    "              \"icon\": \"//cdn.weatherapi.com/weather/64x64/day/113.png\",\n",
    "              \"code\": 1000\n",
    "            },\n",
    "            \"wind_mph\": 15.9,\n",
    "            \"wind_kph\": 25.6,\n",
    "            \"wind_degree\": 269,\n",
    "            \"wind_dir\": \"W\",\n",
    "            \"pressure_mb\": 1002,\n",
    "            \"pressure_in\": 30.1,\n",
    "            \"precip_mm\": 0,\n",
    "            \"precip_in\": 0,\n",
    "            \"humidity\": 53,\n",
    "            \"cloud\": 9,\n",
    "            \"feelslike_c\": 2.6,\n",
    "            \"feelslike_f\": 36.7,\n",
    "            \"windchill_c\": 2.6,\n",
    "            \"windchill_f\": 36.7,\n",
    "            \"heatindex_c\": 6.6,\n",
    "            \"heatindex_f\": 43.9,\n",
    "            \"dewpoint_c\": -2.2,\n",
    "            \"dewpoint_f\": 28,\n",
    "            \"will_it_rain\": 0,\n",
    "            \"chance_of_rain\": \"0\",\n",
    "            \"will_it_snow\": 0,\n",
    "            \"chance_of_snow\": \"0\",\n",
    "            \"vis_km\": 10,\n",
    "            \"vis_miles\": 6\n",
    "          },\n",
    "          {\n",
    "            \"time_epoch\": 1517418000,\n",
    "            \"time\": \"2018-01-31 17:00\",\n",
    "            \"temp_c\": 5.9,\n",
    "            \"temp_f\": 42.6,\n",
    "            \"is_day\": 0,\n",
    "            \"condition\": {\n",
    "              \"text\": \"Clear\",\n",
    "              \"icon\": \"//cdn.weatherapi.com/weather/64x64/night/113.png\",\n",
    "              \"code\": 1000\n",
    "            },\n",
    "            \"wind_mph\": 14.1,\n",
    "            \"wind_kph\": 22.7,\n",
    "            \"wind_degree\": 263,\n",
    "            \"wind_dir\": \"W\",\n",
    "            \"pressure_mb\": 1002,\n",
    "            \"pressure_in\": 30.1,\n",
    "            \"precip_mm\": 0,\n",
    "            \"precip_in\": 0,\n",
    "            \"humidity\": 56,\n",
    "            \"cloud\": 6,\n",
    "            \"feelslike_c\": 2,\n",
    "            \"feelslike_f\": 35.7,\n",
    "            \"windchill_c\": 2,\n",
    "            \"windchill_f\": 35.7,\n",
    "            \"heatindex_c\": 6,\n",
    "            \"heatindex_f\": 42.7,\n",
    "            \"dewpoint_c\": -2.2,\n",
    "            \"dewpoint_f\": 28,\n",
    "            \"will_it_rain\": 0,\n",
    "            \"chance_of_rain\": \"0\",\n",
    "            \"will_it_snow\": 0,\n",
    "            \"chance_of_snow\": \"0\",\n",
    "            \"vis_km\": 10,\n",
    "            \"vis_miles\": 6\n",
    "          },\n",
    "          {\n",
    "            \"time_epoch\": 1517421600,\n",
    "            \"time\": \"2018-01-31 18:00\",\n",
    "            \"temp_c\": 5.2,\n",
    "            \"temp_f\": 41.3,\n",
    "            \"is_day\": 0,\n",
    "            \"condition\": {\n",
    "              \"text\": \"Clear\",\n",
    "              \"icon\": \"//cdn.weatherapi.com/weather/64x64/night/113.png\",\n",
    "              \"code\": 1000\n",
    "            },\n",
    "            \"wind_mph\": 12.3,\n",
    "            \"wind_kph\": 19.8,\n",
    "            \"wind_degree\": 257,\n",
    "            \"wind_dir\": \"WSW\",\n",
    "            \"pressure_mb\": 1002,\n",
    "            \"pressure_in\": 30.1,\n",
    "            \"precip_mm\": 0,\n",
    "            \"precip_in\": 0,\n",
    "            \"humidity\": 58,\n",
    "            \"cloud\": 3,\n",
    "            \"feelslike_c\": 1.5,\n",
    "            \"feelslike_f\": 34.6,\n",
    "            \"windchill_c\": 1.5,\n",
    "            \"windchill_f\": 34.6,\n",
    "            \"heatindex_c\": 5.3,\n",
    "            \"heatindex_f\": 41.5,\n",
    "            \"dewpoint_c\": -2.2,\n",
    "            \"dewpoint_f\": 28.1,\n",
    "            \"will_it_rain\": 0,\n",
    "            \"chance_of_rain\": \"0\",\n",
    "            \"will_it_snow\": 0,\n",
    "            \"chance_of_snow\": \"0\",\n",
    "            \"vis_km\": 10,\n",
    "            \"vis_miles\": 6\n",
    "          },\n",
    "          {\n",
    "            \"time_epoch\": 1517425200,\n",
    "            \"time\": \"2018-01-31 19:00\",\n",
    "            \"temp_c\": 4.9,\n",
    "            \"temp_f\": 40.9,\n",
    "            \"is_day\": 0,\n",
    "            \"condition\": {\n",
    "              \"text\": \"Clear\",\n",
    "              \"icon\": \"//cdn.weatherapi.com/weather/64x64/night/113.png\",\n",
    "              \"code\": 1000\n",
    "            },\n",
    "            \"wind_mph\": 12.9,\n",
    "            \"wind_kph\": 20.8,\n",
    "            \"wind_degree\": 257,\n",
    "            \"wind_dir\": \"WSW\",\n",
    "            \"pressure_mb\": 1002,\n",
    "            \"pressure_in\": 30.1,\n",
    "            \"precip_mm\": 0,\n",
    "            \"precip_in\": 0,\n",
    "            \"humidity\": 60,\n",
    "            \"cloud\": 6,\n",
    "            \"feelslike_c\": 1,\n",
    "            \"feelslike_f\": 33.8,\n",
    "            \"windchill_c\": 1,\n",
    "            \"windchill_f\": 33.8,\n",
    "            \"heatindex_c\": 5,\n",
    "            \"heatindex_f\": 41.1,\n",
    "            \"dewpoint_c\": -2.1,\n",
    "            \"dewpoint_f\": 28.1,\n",
    "            \"will_it_rain\": 0,\n",
    "            \"chance_of_rain\": \"0\",\n",
    "            \"will_it_snow\": 0,\n",
    "            \"chance_of_snow\": \"0\",\n",
    "            \"vis_km\": 10,\n",
    "            \"vis_miles\": 6\n",
    "          },\n",
    "          {\n",
    "            \"time_epoch\": 1517428800,\n",
    "            \"time\": \"2018-01-31 20:00\",\n",
    "            \"temp_c\": 4.7,\n",
    "            \"temp_f\": 40.5,\n",
    "            \"is_day\": 0,\n",
    "            \"condition\": {\n",
    "              \"text\": \"Clear\",\n",
    "              \"icon\": \"//cdn.weatherapi.com/weather/64x64/night/113.png\",\n",
    "              \"code\": 1000\n",
    "            },\n",
    "            \"wind_mph\": 13.5,\n",
    "            \"wind_kph\": 21.7,\n",
    "            \"wind_degree\": 257,\n",
    "            \"wind_dir\": \"WSW\",\n",
    "            \"pressure_mb\": 1002,\n",
    "            \"pressure_in\": 30,\n",
    "            \"precip_mm\": 0,\n",
    "            \"precip_in\": 0,\n",
    "            \"humidity\": 61,\n",
    "            \"cloud\": 8,\n",
    "            \"feelslike_c\": 0.6,\n",
    "            \"feelslike_f\": 33,\n",
    "            \"windchill_c\": 0.6,\n",
    "            \"windchill_f\": 33,\n",
    "            \"heatindex_c\": 4.8,\n",
    "            \"heatindex_f\": 40.6,\n",
    "            \"dewpoint_c\": -2.1,\n",
    "            \"dewpoint_f\": 28.2,\n",
    "            \"will_it_rain\": 0,\n",
    "            \"chance_of_rain\": \"0\",\n",
    "            \"will_it_snow\": 0,\n",
    "            \"chance_of_snow\": \"0\",\n",
    "            \"vis_km\": 10,\n",
    "            \"vis_miles\": 6\n",
    "          },\n",
    "          {\n",
    "            \"time_epoch\": 1517432400,\n",
    "            \"time\": \"2018-01-31 21:00\",\n",
    "            \"temp_c\": 4.5,\n",
    "            \"temp_f\": 40,\n",
    "            \"is_day\": 0,\n",
    "            \"condition\": {\n",
    "              \"text\": \"Clear\",\n",
    "              \"icon\": \"//cdn.weatherapi.com/weather/64x64/night/113.png\",\n",
    "              \"code\": 1000\n",
    "            },\n",
    "            \"wind_mph\": 14.1,\n",
    "            \"wind_kph\": 22.7,\n",
    "            \"wind_degree\": 257,\n",
    "            \"wind_dir\": \"WSW\",\n",
    "            \"pressure_mb\": 1001,\n",
    "            \"pressure_in\": 30,\n",
    "            \"precip_mm\": 0,\n",
    "            \"precip_in\": 0,\n",
    "            \"humidity\": 62,\n",
    "            \"cloud\": 11,\n",
    "            \"feelslike_c\": 0.1,\n",
    "            \"feelslike_f\": 32.2,\n",
    "            \"windchill_c\": 0.1,\n",
    "            \"windchill_f\": 32.2,\n",
    "            \"heatindex_c\": 4.5,\n",
    "            \"heatindex_f\": 40.1,\n",
    "            \"dewpoint_c\": -2.1,\n",
    "            \"dewpoint_f\": 28.3,\n",
    "            \"will_it_rain\": 0,\n",
    "            \"chance_of_rain\": \"0\",\n",
    "            \"will_it_snow\": 0,\n",
    "            \"chance_of_snow\": \"0\",\n",
    "            \"vis_km\": 10,\n",
    "            \"vis_miles\": 6\n",
    "          },\n",
    "          {\n",
    "            \"time_epoch\": 1517436000,\n",
    "            \"time\": \"2018-01-31 22:00\",\n",
    "            \"temp_c\": 4.2,\n",
    "            \"temp_f\": 39.5,\n",
    "            \"is_day\": 0,\n",
    "            \"condition\": {\n",
    "              \"text\": \"Clear\",\n",
    "              \"icon\": \"//cdn.weatherapi.com/weather/64x64/night/113.png\",\n",
    "              \"code\": 1000\n",
    "            },\n",
    "            \"wind_mph\": 13.3,\n",
    "            \"wind_kph\": 21.4,\n",
    "            \"wind_degree\": 251,\n",
    "            \"wind_dir\": \"WSW\",\n",
    "            \"pressure_mb\": 1001,\n",
    "            \"pressure_in\": 30,\n",
    "            \"precip_mm\": 0,\n",
    "            \"precip_in\": 0,\n",
    "            \"humidity\": 64,\n",
    "            \"cloud\": 15,\n",
    "            \"feelslike_c\": -0.1,\n",
    "            \"feelslike_f\": 31.8,\n",
    "            \"windchill_c\": -0.1,\n",
    "            \"windchill_f\": 31.8,\n",
    "            \"heatindex_c\": 4.2,\n",
    "            \"heatindex_f\": 39.6,\n",
    "            \"dewpoint_c\": -2,\n",
    "            \"dewpoint_f\": 28.5,\n",
    "            \"will_it_rain\": 0,\n",
    "            \"chance_of_rain\": \"0\",\n",
    "            \"will_it_snow\": 0,\n",
    "            \"chance_of_snow\": \"0\",\n",
    "            \"vis_km\": 10,\n",
    "            \"vis_miles\": 6\n",
    "          },\n",
    "          {\n",
    "            \"time_epoch\": 1517439600,\n",
    "            \"time\": \"2018-01-31 23:00\",\n",
    "            \"temp_c\": 3.8,\n",
    "            \"temp_f\": 38.9,\n",
    "            \"is_day\": 0,\n",
    "            \"condition\": {\n",
    "              \"text\": \"Clear\",\n",
    "              \"icon\": \"//cdn.weatherapi.com/weather/64x64/night/113.png\",\n",
    "              \"code\": 1000\n",
    "            },\n",
    "            \"wind_mph\": 12.5,\n",
    "            \"wind_kph\": 20,\n",
    "            \"wind_degree\": 246,\n",
    "            \"wind_dir\": \"WSW\",\n",
    "            \"pressure_mb\": 1000,\n",
    "            \"pressure_in\": 30,\n",
    "            \"precip_mm\": 0,\n",
    "            \"precip_in\": 0,\n",
    "            \"humidity\": 66,\n",
    "            \"cloud\": 19,\n",
    "            \"feelslike_c\": -0.3,\n",
    "            \"feelslike_f\": 31.4,\n",
    "            \"windchill_c\": -0.3,\n",
    "            \"windchill_f\": 31.4,\n",
    "            \"heatindex_c\": 3.9,\n",
    "            \"heatindex_f\": 39,\n",
    "            \"dewpoint_c\": -1.9,\n",
    "            \"dewpoint_f\": 28.7,\n",
    "            \"will_it_rain\": 0,\n",
    "            \"chance_of_rain\": \"0\",\n",
    "            \"will_it_snow\": 0,\n",
    "            \"chance_of_snow\": \"0\",\n",
    "            \"vis_km\": 10,\n",
    "            \"vis_miles\": 6\n",
    "          }\n",
    "        ]\n",
    "      }\n",
    "    ]\n",
    "  }\n",
    "}\n",
    "\n",
    "print(d[\"forecast\"][\"forecastday\"][0][\"day\"][\"maxtemp_c\"])"
   ]
  },
  {
   "cell_type": "markdown",
   "id": "04c17502",
   "metadata": {},
   "source": [
    "## For loop "
   ]
  },
  {
   "cell_type": "code",
   "execution_count": 17,
   "id": "94870a34",
   "metadata": {},
   "outputs": [
    {
     "name": "stdout",
     "output_type": "stream",
     "text": [
      "0 1 2 3 4 5 6 7 8 9 \n",
      "0 2 4 6 8 \n",
      "10 9 8 7 6 5 4 3 2 1 "
     ]
    }
   ],
   "source": [
    "for i in range(0,10):\n",
    "    print(i, end= \" \")\n",
    "print()\n",
    "for i in range(0,10,2):\n",
    "    print(i, end =\" \")\n",
    "print()\n",
    "for i in range(10,0,-1):\n",
    "    print(i, end=\" \")"
   ]
  },
  {
   "cell_type": "markdown",
   "id": "9d6490c8",
   "metadata": {},
   "source": [
    "## Input"
   ]
  },
  {
   "cell_type": "code",
   "execution_count": 18,
   "id": "b7de22e1",
   "metadata": {},
   "outputs": [
    {
     "name": "stdout",
     "output_type": "stream",
     "text": [
      "Enter value of a 10\n",
      "Enter value of b 20\n",
      "1020\n"
     ]
    }
   ],
   "source": [
    "a = input(\"Enter value of a \")\n",
    "b = input(\"Enter value of b \")\n",
    "print(a+b)"
   ]
  },
  {
   "cell_type": "markdown",
   "id": "f861784a",
   "metadata": {},
   "source": [
    "## Functions"
   ]
  },
  {
   "cell_type": "code",
   "execution_count": 19,
   "id": "fe960361",
   "metadata": {},
   "outputs": [
    {
     "name": "stdout",
     "output_type": "stream",
     "text": [
      "Even\n",
      "Odd\n"
     ]
    }
   ],
   "source": [
    "#Even or odd\n",
    "#Function with parameter and no return type\n",
    "def EvenOdd(x): #we can also assign default value eg x = 20\n",
    "    if(x%2==0):\n",
    "        print(\"Even\")\n",
    "    else:\n",
    "        print(\"Odd\")\n",
    "EvenOdd(20)\n",
    "EvenOdd(13)"
   ]
  },
  {
   "cell_type": "code",
   "execution_count": 20,
   "id": "0497f4f0",
   "metadata": {},
   "outputs": [
    {
     "name": "stdout",
     "output_type": "stream",
     "text": [
      "Hello\n",
      "world!"
     ]
    }
   ],
   "source": [
    "#we can return multiple values\n",
    "def returning(str):\n",
    "    return str[0:5], str[6:]\n",
    "\n",
    "var1, var2 = returning(\"Hello world\")\n",
    "print(var1,var2,sep=\"\\n\",end=\"!\")"
   ]
  },
  {
   "cell_type": "raw",
   "id": "2a59ec13",
   "metadata": {},
   "source": [
    "IMPLEMENT A FUNCTION TO REVERSE A NUMBER"
   ]
  },
  {
   "cell_type": "raw",
   "id": "d18930d5",
   "metadata": {},
   "source": [
    "PRIME NUMBER"
   ]
  },
  {
   "cell_type": "raw",
   "id": "e4bfae35",
   "metadata": {},
   "source": [
    "FIBONACCI NUMBER"
   ]
  },
  {
   "cell_type": "code",
   "execution_count": 21,
   "id": "fa6dba6e",
   "metadata": {},
   "outputs": [
    {
     "data": {
      "text/plain": [
       "321"
      ]
     },
     "execution_count": 21,
     "metadata": {},
     "output_type": "execute_result"
    }
   ],
   "source": [
    "def reverse(x):\n",
    "    return int(x[-1::-1])\n",
    "reverse(\"123\")"
   ]
  },
  {
   "cell_type": "code",
   "execution_count": 22,
   "id": "6f0d4876",
   "metadata": {
    "scrolled": false
   },
   "outputs": [
    {
     "name": "stdout",
     "output_type": "stream",
     "text": [
      "Prime\n",
      "Composite\n",
      "Composite\n",
      "Prime\n",
      "Prime\n",
      "Prime\n"
     ]
    }
   ],
   "source": [
    "def prime(x):\n",
    "    if x==2:\n",
    "        return \"Prime\"\n",
    "    else:\n",
    "        for i in range(2,x//2):\n",
    "            if(x%i==0):\n",
    "                break\n",
    "            else:\n",
    "                return \"Prime\"\n",
    "    return \"Composite\"\n",
    "\n",
    "print(prime(2))\n",
    "print(prime(1))\n",
    "print(prime(10))\n",
    "print(prime(13))\n",
    "print(prime(15))\n",
    "print(prime(19))            "
   ]
  },
  {
   "cell_type": "code",
   "execution_count": 23,
   "id": "d9d8defb",
   "metadata": {},
   "outputs": [
    {
     "name": "stdout",
     "output_type": "stream",
     "text": [
      "[1, 2, 3, 4, 5]\n"
     ]
    }
   ],
   "source": [
    "w = [1,2,3,4,5,6]\n",
    "w1 = w\n",
    "w.pop()\n",
    "print(w1)"
   ]
  },
  {
   "cell_type": "code",
   "execution_count": 24,
   "id": "8e772885",
   "metadata": {},
   "outputs": [
    {
     "name": "stdout",
     "output_type": "stream",
     "text": [
      "[1, 2, 3, 4, 5, 6]\n"
     ]
    }
   ],
   "source": [
    "j = [1,2,3,4,5,6]\n",
    "j1 = j.copy()\n",
    "j.pop()\n",
    "print(j1)"
   ]
  },
  {
   "cell_type": "markdown",
   "id": "66cfde76",
   "metadata": {},
   "source": [
    "## 1D Array"
   ]
  },
  {
   "cell_type": "code",
   "execution_count": 25,
   "id": "9faf046f",
   "metadata": {},
   "outputs": [
    {
     "name": "stdout",
     "output_type": "stream",
     "text": [
      "Enter n 10\n",
      "Enter array element 20\n",
      "Enter array element 0\n",
      "Enter array element 1\n",
      "Enter array element 2\n",
      "Enter array element 3\n",
      "Enter array element 4\n",
      "Enter array element 5\n",
      "Enter array element 6\n",
      "Enter array element 7\n",
      "Enter array element 8\n",
      "[20, 0, 1, 2, 3, 4, 5, 6, 7, 8]\n"
     ]
    }
   ],
   "source": [
    "n = int(input(\"Enter n \"))\n",
    "array_list = []\n",
    "for i in range(0, n):\n",
    "    array_list.append(int(input(\"Enter array element \")))\n",
    "print(array_list)"
   ]
  },
  {
   "cell_type": "markdown",
   "id": "74478661",
   "metadata": {},
   "source": [
    "## 2D Array"
   ]
  },
  {
   "cell_type": "code",
   "execution_count": 26,
   "id": "ec5f5233",
   "metadata": {},
   "outputs": [
    {
     "name": "stdout",
     "output_type": "stream",
     "text": [
      "Enter rows 2\n",
      "Enter columns 2\n",
      "Enter [0][0] Element :1\n",
      "Enter [0][1] Element :2\n",
      "Enter [1][0] Element :3\n",
      "Enter [1][1] Element :4\n",
      "[[1, 2], [3, 4]]\n"
     ]
    }
   ],
   "source": [
    "twoDArray = []\n",
    "rows = int(input(\"Enter rows \"))\n",
    "columns = int(input(\"Enter columns \"))\n",
    "for i in range(0, rows):\n",
    "    temp = []\n",
    "    for j in range(0, columns):\n",
    "        string = \"Enter [\"+str(i)+\"][\"+str(j)+\"] Element :\"\n",
    "        temp.append(int(input(string)))\n",
    "    twoDArray.append(temp)\n",
    "print(twoDArray)"
   ]
  },
  {
   "cell_type": "markdown",
   "id": "6d0fb068",
   "metadata": {},
   "source": [
    "## List Comprehension "
   ]
  },
  {
   "cell_type": "code",
   "execution_count": 27,
   "id": "c7085e42",
   "metadata": {},
   "outputs": [
    {
     "name": "stdout",
     "output_type": "stream",
     "text": [
      "['watermelon', 'strawberry', 'blue berry', 'cherry']\n",
      "['watermelon', 'strawberry', 'blue berry', 'cherry']\n"
     ]
    }
   ],
   "source": [
    "# Shortcut for creating a list for loops\n",
    "fruits = [\"kiwi\",\"watermelon\",\"mango\",\"strawberry\",\"blue berry\",\"cherry\"]\n",
    "fruits_lengthy = []\n",
    "for f in fruits:\n",
    "    if(len(f)>5):\n",
    "        fruits_lengthy.append(f)\n",
    "print(fruits_lengthy)\n",
    "\n",
    "fruitsy = [f for f in fruits if(len(f)>5)]\n",
    "print(fruitsy)\n",
    "\n",
    "#[result if-statement loop condition if-inside-for-loop]"
   ]
  },
  {
   "cell_type": "code",
   "execution_count": 28,
   "id": "9e86d6ae",
   "metadata": {},
   "outputs": [
    {
     "name": "stdout",
     "output_type": "stream",
     "text": [
      "[0, 2, 4, 6, 8, 10, 12, 14, 16, 18, 20]\n"
     ]
    }
   ],
   "source": [
    "even = [i for i in range(0,21) if i%2==0]\n",
    "print(even)"
   ]
  },
  {
   "cell_type": "code",
   "execution_count": 29,
   "id": "5e5295f8",
   "metadata": {},
   "outputs": [
    {
     "name": "stdout",
     "output_type": "stream",
     "text": [
      "['kiwis', 'watermelons', 'mangoes', 'strawberrys', 'blue berrys', 'cherrys']\n",
      "['kiwis', 'watermelons', 'mangoes', 'strawberries', 'blue berries', 'cherries']\n"
     ]
    }
   ],
   "source": [
    "fruits_plural = [f+\"es\" if f[-1]=='o' else f+\"s\" for f in fruits ]\n",
    "print(fruits_plural)\n",
    "\n",
    "#[if-statement if-condition else-statement for-loop]\n",
    "\n",
    "fruits_plural=[]\n",
    "fruits_plural = [f+\"es\" if f[-1]=='o' else f[0:-1]+\"ies\" if f[-1]==\"y\" else f+\"s\" for f in fruits]\n",
    "print(fruits_plural)\n",
    "\n",
    "#[if-statement if-condition else-if-statement if-condition else-statement for-loop]\n"
   ]
  },
  {
   "cell_type": "raw",
   "id": "3ae3d5c3",
   "metadata": {},
   "source": [
    "Assignment\n",
    "Marks given 0 - 100 \n",
    "0 to 34, fail \n",
    "35 - 59, B Grade \n",
    "60 - 89, A Grade \n",
    "90 - 100, Outstanding\n",
    "\n",
    "Input: 4 [10,55,89,95] \n",
    "Output: [\"Fail\",\"B Grade\",\"A Grade\",\"Outstanding\"]\n",
    "\n",
    "Only using List Comprehension"
   ]
  },
  {
   "cell_type": "code",
   "execution_count": 30,
   "id": "609ec572",
   "metadata": {},
   "outputs": [
    {
     "name": "stdout",
     "output_type": "stream",
     "text": [
      "['Fail', 'B Grade', 'A Grade', 'Outstanding']\n"
     ]
    }
   ],
   "source": [
    "marks = [10,55,89,95]\n",
    "list = [\"Outstanding\" if(m>=90 and m<=100) else \"A Grade\" if(m>=60 and m<=89)  else \"B Grade\" if(m>=35 and m<=59) else \"Fail\" for m in marks]\n",
    "print(list)"
   ]
  },
  {
   "cell_type": "markdown",
   "id": "bcbc15f1",
   "metadata": {},
   "source": [
    "## Lambda Functions - Anonymous function"
   ]
  },
  {
   "cell_type": "code",
   "execution_count": 31,
   "id": "e02eb2c9",
   "metadata": {},
   "outputs": [
    {
     "name": "stdout",
     "output_type": "stream",
     "text": [
      "625\n"
     ]
    }
   ],
   "source": [
    "fun = lambda x:x**4\n",
    "print(fun(5))"
   ]
  },
  {
   "cell_type": "code",
   "execution_count": 32,
   "id": "db6ab5b7",
   "metadata": {},
   "outputs": [
    {
     "name": "stdout",
     "output_type": "stream",
     "text": [
      "200\n"
     ]
    }
   ],
   "source": [
    "fun = lambda x,y : x*y\n",
    "print(fun(10,20))"
   ]
  },
  {
   "cell_type": "markdown",
   "id": "81d86575",
   "metadata": {},
   "source": [
    "## Global Variables"
   ]
  },
  {
   "cell_type": "code",
   "execution_count": 47,
   "id": "5e0151ea",
   "metadata": {},
   "outputs": [
    {
     "name": "stdout",
     "output_type": "stream",
     "text": [
      "15\n"
     ]
    }
   ],
   "source": [
    "def fun():\n",
    "    num1 = 5 #global by default\n",
    "    num2 = 10\n",
    "    print(num1+num2)  \n",
    "fun()"
   ]
  },
  {
   "cell_type": "code",
   "execution_count": 58,
   "id": "611fa5e0",
   "metadata": {},
   "outputs": [
    {
     "name": "stdout",
     "output_type": "stream",
     "text": [
      "65\n",
      "35\n",
      "10\n"
     ]
    }
   ],
   "source": [
    "num1 = 5 #global by default\n",
    "num2 = 10\n",
    "def fun():\n",
    "    global num1\n",
    "    num1 += 30\n",
    "    num2 = 30\n",
    "    print(num1+num2)  \n",
    "fun()\n",
    "print(num1)\n",
    "print(num2)"
   ]
  },
  {
   "cell_type": "markdown",
   "id": "c6cb8fbd",
   "metadata": {},
   "source": [
    "## File Operations"
   ]
  },
  {
   "cell_type": "raw",
   "id": "eadd1f41",
   "metadata": {},
   "source": [
    "Open a file and read it\n",
    "write in the file\n",
    "close the file"
   ]
  },
  {
   "cell_type": "raw",
   "id": "1e0b8b8c",
   "metadata": {},
   "source": [
    "r - read\n",
    "x - create file and write\n",
    "w - write but truncate previous \n",
    "a - append\n",
    "b - binary mode\n",
    "t - text mode\n",
    "+ - opens a disk file for updating"
   ]
  },
  {
   "cell_type": "raw",
   "id": "69ec4c65",
   "metadata": {},
   "source": [
    "file.open(link, operation)\n",
    "file.readlines()\n",
    "file.readline()\n",
    "file.write(\" \")\n",
    "file.close()"
   ]
  },
  {
   "cell_type": "code",
   "execution_count": 29,
   "id": "8f5bdc0e",
   "metadata": {},
   "outputs": [
    {
     "name": "stdout",
     "output_type": "stream",
     "text": [
      "['heyyyyyyyyyyy\\n', 'hiiiiiiiiiiiiiiiiii\\n', 'broooooooooooooo\\n', 'whyyyyyyyyyyyyyy\\n', 'where\\n', 'are \\n', 'you???????????\\n', '>>>>>>>>>>>>>>>>>><<<<<<<<<<<<<<<<<<<<<Hello World']\n"
     ]
    }
   ],
   "source": [
    "file = open(\"HelloFile.txt\",'r')\n",
    "#file.write('Hello World')\n",
    "#print(file.seek(3))\n",
    "result = file.readlines()\n",
    "file.close()\n",
    "print(result)"
   ]
  },
  {
   "cell_type": "raw",
   "id": "3035adbc",
   "metadata": {},
   "source": [
    "file = open(\"WriteFile.txt\",\"x\")\n",
    "file.write(\"Hey! \\nHow are you?? \\n\")\n",
    "file.close()"
   ]
  },
  {
   "cell_type": "markdown",
   "id": "06465c9e",
   "metadata": {},
   "source": [
    "## Exception Handling"
   ]
  },
  {
   "cell_type": "code",
   "execution_count": 10,
   "id": "9beabb0a",
   "metadata": {},
   "outputs": [
    {
     "name": "stdout",
     "output_type": "stream",
     "text": [
      "a: 10\n",
      "b: 0\n",
      "b must be non zero!\n",
      "<class 'ZeroDivisionError'>\n",
      "a: 10\n",
      "b: 2\n",
      "5.0\n"
     ]
    }
   ],
   "source": [
    "import sys\n",
    "while(True):\n",
    "    try:\n",
    "        a = int(input(\"a: \"))\n",
    "        b = int(input(\"b: \"))\n",
    "        print(a/b)\n",
    "        break\n",
    "    except ValueError:\n",
    "        print(\"Enter integer values only!\")\n",
    "        print(sys.exc_info()[0])\n",
    "    except ZeroDivisionError:\n",
    "        print(\"b must be non zero!\")\n",
    "        print(sys.exc_info()[0]) # --> System Error\n",
    "    #finally: Executes at all times even when theres an exception\n",
    "        "
   ]
  },
  {
   "cell_type": "markdown",
   "id": "ed647107",
   "metadata": {},
   "source": [
    "## Objects and Classes"
   ]
  },
  {
   "cell_type": "raw",
   "id": "f3a45345",
   "metadata": {},
   "source": [
    "Class is a blue print which has attributes and methods\n",
    "Attributes are variables\n",
    "Methods are functions\n",
    "\n",
    "There is no memory allocation for attributes alone\n",
    "\n",
    "Objects are instances of class to whom memory is allocated."
   ]
  },
  {
   "cell_type": "code",
   "execution_count": 6,
   "id": "fc472c3a",
   "metadata": {},
   "outputs": [
    {
     "name": "stdout",
     "output_type": "stream",
     "text": [
      "Health  5000\n",
      "Ammo  500\n",
      "Stamina  10000\n",
      "Health  100\n",
      "Ammo  100\n",
      "Stamina  20\n"
     ]
    }
   ],
   "source": [
    "class EnemyCharacters:\n",
    "    health = 100 #As of now memory is not allocated\n",
    "    ammo = 50\n",
    "    stamina = 100\n",
    "    \n",
    "    def hide(self):\n",
    "        print(\"Hiding\")\n",
    "    \n",
    "    def shoot(self):\n",
    "        print(\"Shooting\")\n",
    "    \n",
    "    def reload(self):\n",
    "        print(\"Reload\")\n",
    "    \n",
    "    def printDetails(self):\n",
    "        print(\"Health \",self.health)\n",
    "        print(\"Ammo \",self.ammo)\n",
    "        print(\"Stamina \",self.stamina)\n",
    "\n",
    "boss = EnemyCharacters()\n",
    "henchman = EnemyCharacters()\n",
    "\n",
    "boss.health = 5000\n",
    "boss.ammo = 500\n",
    "boss.stamina = 10000\n",
    "boss.printDetails()\n",
    "\n",
    "henchman.ammo =100\n",
    "henchman.stamina = 20\n",
    "henchman.printDetails()"
   ]
  },
  {
   "cell_type": "markdown",
   "id": "eac39721",
   "metadata": {},
   "source": [
    "##  Inheritance"
   ]
  },
  {
   "cell_type": "code",
   "execution_count": 11,
   "id": "e6274842",
   "metadata": {},
   "outputs": [
    {
     "name": "stdout",
     "output_type": "stream",
     "text": [
      "Assigning weapons\n",
      "Assigning weapons\n",
      "Flying\n",
      "Swimming\n",
      "Health  90\n",
      "Ammo  80\n",
      "Stamina  70\n",
      "Health  1000\n",
      "Ammo  50\n",
      "Stamina  100\n"
     ]
    }
   ],
   "source": [
    "class flyingEnemy(EnemyCharacters):\n",
    "    def __init__(self):\n",
    "        print(\"Assigning weapons\")\n",
    "    def fly(self):\n",
    "        print(\"Flying\")\n",
    "class swimmingEnemy(EnemyCharacters):\n",
    "    def __init__(self):\n",
    "        print(\"Assigning weapons\")\n",
    "    def swim(self):\n",
    "        print(\"Swimming\")\n",
    "\n",
    "f = flyingEnemy()\n",
    "s = swimmingEnemy()\n",
    "f.fly()\n",
    "f.health = 90\n",
    "f.ammo=80\n",
    "f.stamina = 70\n",
    "s.swim()\n",
    "s.health = 1000\n",
    "f.printDetails()\n",
    "s.printDetails()"
   ]
  },
  {
   "cell_type": "raw",
   "id": "a3f7ad99",
   "metadata": {},
   "source": [
    "__init__ \n",
    "Constructor\n",
    "Its called as soon as the object of that method is created"
   ]
  },
  {
   "cell_type": "code",
   "execution_count": 12,
   "id": "d5e3a3fb",
   "metadata": {},
   "outputs": [
    {
     "name": "stdout",
     "output_type": "stream",
     "text": [
      "In Fun A\n",
      "In Fun B\n"
     ]
    }
   ],
   "source": [
    "class A:\n",
    "    def funA(self):\n",
    "        print(\"In Fun A\")\n",
    "class B:\n",
    "    def funB(self):\n",
    "        print(\"In Fun B\")\n",
    "class C(A,B):\n",
    "    pass\n",
    "\n",
    "hello = C()\n",
    "hello.funA()\n",
    "hello.funB()"
   ]
  },
  {
   "cell_type": "code",
   "execution_count": null,
   "id": "50ef968e",
   "metadata": {},
   "outputs": [],
   "source": []
  }
 ],
 "metadata": {
  "kernelspec": {
   "display_name": "Python 3",
   "language": "python",
   "name": "python3"
  },
  "language_info": {
   "codemirror_mode": {
    "name": "ipython",
    "version": 3
   },
   "file_extension": ".py",
   "mimetype": "text/x-python",
   "name": "python",
   "nbconvert_exporter": "python",
   "pygments_lexer": "ipython3",
   "version": "3.8.8"
  }
 },
 "nbformat": 4,
 "nbformat_minor": 5
}
